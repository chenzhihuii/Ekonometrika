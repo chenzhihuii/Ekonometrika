{
 "cells": [
  {
   "cell_type": "markdown",
   "metadata": {},
   "source": [
    "# Library"
   ]
  },
  {
   "cell_type": "code",
   "execution_count": 1,
   "metadata": {},
   "outputs": [],
   "source": [
    "import pandas as pd\n",
    "import numpy as np\n",
    "from scipy import stats \n",
    "from linearmodels.panel import PooledOLS, PanelOLS, RandomEffects\n",
    "from linearmodels.panel import compare\n",
    "from statsmodels.stats.diagnostic import het_breuschpagan\n",
    "from statsmodels.api import OLS, add_constant\n",
    "from statsmodels.stats.stattools import durbin_watson\n",
    "import statsmodels.api as sm\n",
    "from scipy.stats import f\n",
    "import statsmodels.stats.diagnostic as diag\n",
    "from statsmodels.stats.outliers_influence import variance_inflation_factor"
   ]
  },
  {
   "cell_type": "markdown",
   "metadata": {},
   "source": [
    "# Load Data"
   ]
  },
  {
   "cell_type": "code",
   "execution_count": 2,
   "metadata": {},
   "outputs": [],
   "source": [
    "dataset = pd.read_excel(\"D:/Semester 5/Ekonometrika/tugas/data/Jumlah Wisata Nusantara.xlsx\")\n",
    "dataset = dataset.set_index(['Provinsi', 'Tahun'])\n",
    "\n",
    "X = dataset[['Daya_Tarik_Wisata_Alam', 'Daya_Tarik_Wisata_Budaya', 'Daya_Tarik_Wisata_Buatan', \n",
    "                   'Taman_Hiburan_dan_Rekreasi', 'Kawasan_Pariwisata', 'Wisata_Tirta']]\n",
    "y = dataset['Jumlah_Wisnus']\n",
    "X = add_constant(X)\n"
   ]
  },
  {
   "cell_type": "markdown",
   "metadata": {},
   "source": [
    "# Chow-Test"
   ]
  },
  {
   "cell_type": "code",
   "execution_count": 3,
   "metadata": {},
   "outputs": [
    {
     "name": "stdout",
     "output_type": "stream",
     "text": [
      "Chow Test Statistic:  22.613539825014655\n",
      "P-value:  9.103828801926284e-15\n",
      "Tolak H0: Lakukan Hausman Test\n"
     ]
    }
   ],
   "source": [
    "# Pooled OLS Model (Common Effect)\n",
    "common_model = PooledOLS(y, X)\n",
    "common_results = common_model.fit()\n",
    "\n",
    "# Fixed Effects Model (within transformation)\n",
    "fixed_model = PanelOLS(y, X, entity_effects=True)\n",
    "fixed_results = fixed_model.fit()\n",
    "\n",
    "# Chow Test calculation\n",
    "# Combine residuals for both models\n",
    "e_common = common_results.resids\n",
    "e_fixed = fixed_results.resids\n",
    "\n",
    "n = len(dataset)\n",
    "k = len(X.columns)\n",
    "SSR_common = np.sum(e_common**2) \n",
    "SSR_fixed = np.sum(e_fixed**2) \n",
    "\n",
    "chow_stat = ((SSR_common - SSR_fixed) / k) / (SSR_fixed / (n - k))\n",
    "p_value = 1 - stats.f.cdf(chow_stat, k, n - k)\n",
    "print(\"Chow Test Statistic: \", chow_stat)\n",
    "print(\"P-value: \", p_value)\n",
    "\n",
    "# Decision based on p-value\n",
    "if p_value < 0.05:\n",
    "    print(\"Tolak H0: Lakukan Hausman Test\")\n",
    "else:\n",
    "    print(\"Gagal Tolak H0: Lakukan BP-LM Test\")"
   ]
  },
  {
   "cell_type": "markdown",
   "metadata": {},
   "source": [
    "# Uji Hausman"
   ]
  },
  {
   "cell_type": "code",
   "execution_count": 4,
   "metadata": {},
   "outputs": [
    {
     "name": "stdout",
     "output_type": "stream",
     "text": [
      "Hausman Test Statistic:  6.599468563905197\n",
      "P-value:  0.4717382151586068\n",
      "Gagal Tolak H0: Gunakan Random Effects Model\n"
     ]
    }
   ],
   "source": [
    "# Hausman Test\n",
    "random_model = RandomEffects(y, X)\n",
    "random_results = random_model.fit()\n",
    "\n",
    "b_fixed = fixed_results.params\n",
    "b_random = random_results.params\n",
    "\n",
    "cov_b_fixed = fixed_results.cov\n",
    "cov_b_random = random_results.cov\n",
    "\n",
    "# Check for singular covariance matrix\n",
    "try:\n",
    "    diff_b = b_fixed - b_random\n",
    "    cov_diff = cov_b_fixed - cov_b_random\n",
    "    hausman_stat = diff_b.T @ np.linalg.inv(cov_diff) @ diff_b\n",
    "    p_value = 1 - stats.chi2.cdf(hausman_stat, len(b_fixed))\n",
    "\n",
    "    print(\"Hausman Test Statistic: \", hausman_stat)\n",
    "    print(\"P-value: \", p_value)\n",
    "\n",
    "    if p_value < 0.05:\n",
    "        print(\"Tolak H0: Gunakan Fixed Effects Model\")\n",
    "    else:\n",
    "        print(\"Gagal Tolak H0: Gunakan Random Effects Model\")\n",
    "except np.linalg.LinAlgError:\n",
    "    print(\"Matrix covariance difference is singular. Hausman test tidak dapat dilakukan.\")"
   ]
  },
  {
   "cell_type": "markdown",
   "metadata": {},
   "source": [
    "# Random Effects Model"
   ]
  },
  {
   "cell_type": "code",
   "execution_count": 5,
   "metadata": {},
   "outputs": [
    {
     "name": "stdout",
     "output_type": "stream",
     "text": [
      "                        RandomEffects Estimation Summary                        \n",
      "================================================================================\n",
      "Dep. Variable:          Jumlah_Wisnus   R-squared:                        0.8187\n",
      "Estimator:              RandomEffects   R-squared (Between):              0.8604\n",
      "No. Observations:                  68   R-squared (Within):               0.7399\n",
      "Date:                Thu, Nov 28 2024   R-squared (Overall):              0.8379\n",
      "Time:                        13:43:30   Log-likelihood                   -1165.8\n",
      "Cov. Estimator:            Unadjusted                                           \n",
      "                                        F-statistic:                      45.919\n",
      "Entities:                          34   P-value                           0.0000\n",
      "Avg Obs:                       2.0000   Distribution:                    F(6,61)\n",
      "Min Obs:                       2.0000                                           \n",
      "Max Obs:                       2.0000   F-statistic (robust):             45.919\n",
      "                                        P-value                           0.0000\n",
      "Time periods:                       2   Distribution:                    F(6,61)\n",
      "Avg Obs:                       34.000                                           \n",
      "Min Obs:                       34.000                                           \n",
      "Max Obs:                       34.000                                           \n",
      "                                                                                \n",
      "                                     Parameter Estimates                                      \n",
      "==============================================================================================\n",
      "                            Parameter  Std. Err.     T-stat    P-value    Lower CI    Upper CI\n",
      "----------------------------------------------------------------------------------------------\n",
      "const                       2.958e+06   1.66e+06     1.7815     0.0798  -3.622e+05   6.278e+06\n",
      "Daya_Tarik_Wisata_Alam      1.878e+05  1.366e+05     1.3743     0.1744  -8.544e+04    4.61e+05\n",
      "Daya_Tarik_Wisata_Budaya   -1.658e+04  2.353e+05    -0.0704     0.9441  -4.871e+05    4.54e+05\n",
      "Daya_Tarik_Wisata_Buatan    4.252e+05  4.343e+04     9.7913     0.0000   3.384e+05   5.121e+05\n",
      "Taman_Hiburan_dan_Rekreasi  1.415e+04  1.469e+05     0.0963     0.9236  -2.796e+05   3.079e+05\n",
      "Kawasan_Pariwisata          9.202e+05  4.656e+05     1.9767     0.0526  -1.069e+04   1.851e+06\n",
      "Wisata_Tirta               -9.513e+04   3.97e+04    -2.3964     0.0196  -1.745e+05  -1.575e+04\n",
      "==============================================================================================\n"
     ]
    }
   ],
   "source": [
    "# Fit the Random Effects Model\n",
    "random_model = RandomEffects(y, X)\n",
    "random_results = random_model.fit()\n",
    "print(random_results)"
   ]
  },
  {
   "cell_type": "markdown",
   "metadata": {},
   "source": [
    "# Uji Heteroskedastisitas (RE)"
   ]
  },
  {
   "cell_type": "code",
   "execution_count": 6,
   "metadata": {},
   "outputs": [
    {
     "name": "stdout",
     "output_type": "stream",
     "text": [
      "Breusch-Pagan Test p-value: 1.0392216311130486e-05\n",
      "Ada indikasi heteroskedastisitas\n"
     ]
    }
   ],
   "source": [
    "residuals = random_results.resids\n",
    "bp_test = diag.het_breuschpagan(residuals, X)\n",
    "bp_p_value = bp_test[1]\n",
    "print(f\"Breusch-Pagan Test p-value: {bp_p_value}\")\n",
    "if bp_p_value < 0.05:\n",
    "    print(\"Ada indikasi heteroskedastisitas\")\n",
    "else:\n",
    "    print(\"Tidak Ada Indikasi Heteroskedastisitas\")"
   ]
  },
  {
   "cell_type": "markdown",
   "metadata": {},
   "source": [
    "# Log Transform (RE Model)"
   ]
  },
  {
   "cell_type": "code",
   "execution_count": null,
   "metadata": {},
   "outputs": [
    {
     "name": "stdout",
     "output_type": "stream",
     "text": [
      "                        RandomEffects Estimation Summary                        \n",
      "================================================================================\n",
      "Dep. Variable:          Jumlah_Wisnus   R-squared:                        0.6871\n",
      "Estimator:              RandomEffects   R-squared (Between):              0.7131\n",
      "No. Observations:                  68   R-squared (Within):               0.6513\n",
      "Date:                Thu, Nov 28 2024   R-squared (Overall):              0.7008\n",
      "Time:                        13:43:30   Log-likelihood                   -45.573\n",
      "Cov. Estimator:            Unadjusted                                           \n",
      "                                        F-statistic:                      22.322\n",
      "Entities:                          34   P-value                           0.0000\n",
      "Avg Obs:                       2.0000   Distribution:                    F(6,61)\n",
      "Min Obs:                       2.0000                                           \n",
      "Max Obs:                       2.0000   F-statistic (robust):             22.322\n",
      "                                        P-value                           0.0000\n",
      "Time periods:                       2   Distribution:                    F(6,61)\n",
      "Avg Obs:                       34.000                                           \n",
      "Min Obs:                       34.000                                           \n",
      "Max Obs:                       34.000                                           \n",
      "                                                                                \n",
      "                                     Parameter Estimates                                      \n",
      "==============================================================================================\n",
      "                            Parameter  Std. Err.     T-stat    P-value    Lower CI    Upper CI\n",
      "----------------------------------------------------------------------------------------------\n",
      "const                          20.343     0.3623     56.144     0.0000      19.619      21.068\n",
      "Daya_Tarik_Wisata_Alam         0.1405     0.1506     0.9326     0.3547     -0.1607      0.4417\n",
      "Daya_Tarik_Wisata_Budaya      -0.0185     0.1573    -0.1178     0.9066     -0.3331      0.2960\n",
      "Daya_Tarik_Wisata_Buatan       0.6670     0.0940     7.0933     0.0000      0.4790      0.8551\n",
      "Taman_Hiburan_dan_Rekreasi    -0.1167     0.1456    -0.8013     0.4261     -0.4079      0.1745\n",
      "Kawasan_Pariwisata             0.3710     0.1400     2.6503     0.0102      0.0911      0.6508\n",
      "Wisata_Tirta                  -0.0451     0.1038    -0.4349     0.6652     -0.2526      0.1624\n",
      "==============================================================================================\n"
     ]
    }
   ],
   "source": [
    "X_log = np.log(X + 1)\n",
    "y_log = np.log(y + 1)\n",
    "model_log = RandomEffects(y_log, X_log)\n",
    "result_log = model_log.fit()\n",
    "\n",
    "print(result_log)"
   ]
  },
  {
   "cell_type": "markdown",
   "metadata": {},
   "source": [
    "Uji Heteroskedastisitas Setelah Log Transform"
   ]
  },
  {
   "cell_type": "code",
   "execution_count": null,
   "metadata": {},
   "outputs": [
    {
     "name": "stdout",
     "output_type": "stream",
     "text": [
      "P-value Uji Breusch-Pagan: 0.1581243191536857\n",
      "Tidak Ada Indikasi Heteroskedastisitas\n"
     ]
    }
   ],
   "source": [
    "bp_test = diag.het_breuschpagan(result_log.resids, X)\n",
    "bp_p_value = bp_test[1]\n",
    "print(f\"P-value Uji Breusch-Pagan: {bp_p_value}\")\n",
    "if bp_p_value < 0.05:\n",
    "    print(\"Ada indikasi heteroskedastisitas\")\n",
    "else:\n",
    "    print(\"Tidak Ada Indikasi Heteroskedastisitas\")"
   ]
  },
  {
   "cell_type": "markdown",
   "metadata": {},
   "source": [
    "# Evaluasi Model"
   ]
  },
  {
   "cell_type": "code",
   "execution_count": 9,
   "metadata": {},
   "outputs": [
    {
     "name": "stdout",
     "output_type": "stream",
     "text": [
      "\n",
      "Pengaruh Semua Variabel dalam Model Random Effects (After Log Transform):\n"
     ]
    },
    {
     "data": {
      "text/html": [
       "<div>\n",
       "<style scoped>\n",
       "    .dataframe tbody tr th:only-of-type {\n",
       "        vertical-align: middle;\n",
       "    }\n",
       "\n",
       "    .dataframe tbody tr th {\n",
       "        vertical-align: top;\n",
       "    }\n",
       "\n",
       "    .dataframe thead th {\n",
       "        text-align: right;\n",
       "    }\n",
       "</style>\n",
       "<table border=\"1\" class=\"dataframe\">\n",
       "  <thead>\n",
       "    <tr style=\"text-align: right;\">\n",
       "      <th></th>\n",
       "      <th>Coefficient</th>\n",
       "      <th>P-value</th>\n",
       "      <th>Lower CI</th>\n",
       "      <th>Upper CI</th>\n",
       "    </tr>\n",
       "  </thead>\n",
       "  <tbody>\n",
       "    <tr>\n",
       "      <th>const</th>\n",
       "      <td>20.34338</td>\n",
       "      <td>0.00000</td>\n",
       "      <td>19.6188</td>\n",
       "      <td>21.0679</td>\n",
       "    </tr>\n",
       "    <tr>\n",
       "      <th>Daya_Tarik_Wisata_Alam</th>\n",
       "      <td>0.14048</td>\n",
       "      <td>0.35470</td>\n",
       "      <td>-0.1607</td>\n",
       "      <td>0.4417</td>\n",
       "    </tr>\n",
       "    <tr>\n",
       "      <th>Daya_Tarik_Wisata_Budaya</th>\n",
       "      <td>-0.01853</td>\n",
       "      <td>0.90662</td>\n",
       "      <td>-0.3331</td>\n",
       "      <td>0.2960</td>\n",
       "    </tr>\n",
       "    <tr>\n",
       "      <th>Daya_Tarik_Wisata_Buatan</th>\n",
       "      <td>0.66702</td>\n",
       "      <td>0.00000</td>\n",
       "      <td>0.4790</td>\n",
       "      <td>0.8551</td>\n",
       "    </tr>\n",
       "    <tr>\n",
       "      <th>Taman_Hiburan_dan_Rekreasi</th>\n",
       "      <td>-0.11669</td>\n",
       "      <td>0.42606</td>\n",
       "      <td>-0.4079</td>\n",
       "      <td>0.1745</td>\n",
       "    </tr>\n",
       "    <tr>\n",
       "      <th>Kawasan_Pariwisata</th>\n",
       "      <td>0.37095</td>\n",
       "      <td>0.01023</td>\n",
       "      <td>0.0911</td>\n",
       "      <td>0.6508</td>\n",
       "    </tr>\n",
       "    <tr>\n",
       "      <th>Wisata_Tirta</th>\n",
       "      <td>-0.04513</td>\n",
       "      <td>0.66518</td>\n",
       "      <td>-0.2526</td>\n",
       "      <td>0.1624</td>\n",
       "    </tr>\n",
       "  </tbody>\n",
       "</table>\n",
       "</div>"
      ],
      "text/plain": [
       "                            Coefficient  P-value  Lower CI  Upper CI\n",
       "const                          20.34338  0.00000   19.6188   21.0679\n",
       "Daya_Tarik_Wisata_Alam          0.14048  0.35470   -0.1607    0.4417\n",
       "Daya_Tarik_Wisata_Budaya       -0.01853  0.90662   -0.3331    0.2960\n",
       "Daya_Tarik_Wisata_Buatan        0.66702  0.00000    0.4790    0.8551\n",
       "Taman_Hiburan_dan_Rekreasi     -0.11669  0.42606   -0.4079    0.1745\n",
       "Kawasan_Pariwisata              0.37095  0.01023    0.0911    0.6508\n",
       "Wisata_Tirta                   -0.04513  0.66518   -0.2526    0.1624"
      ]
     },
     "execution_count": 9,
     "metadata": {},
     "output_type": "execute_result"
    }
   ],
   "source": [
    "print(\"\\nPengaruh Semua Variabel dalam Model Random Effects (After Log Transform):\")\n",
    "params_rounded = result_log.params.round(5)\n",
    "pvalues_rounded = result_log.pvalues.round(5)\n",
    "conf_int = result_log.conf_int()\n",
    "conf_int_rounded = conf_int.round(4)\n",
    "\n",
    "summary = pd.DataFrame({\n",
    "    'Coefficient': params_rounded,\n",
    "    'P-value': pvalues_rounded,\n",
    "    'Lower CI': conf_int_rounded.iloc[:, 0],\n",
    "    'Upper CI': conf_int_rounded.iloc[:, 1],\n",
    "})\n",
    "summary\n"
   ]
  }
 ],
 "metadata": {
  "kernelspec": {
   "display_name": "Python 3",
   "language": "python",
   "name": "python3"
  },
  "language_info": {
   "codemirror_mode": {
    "name": "ipython",
    "version": 3
   },
   "file_extension": ".py",
   "mimetype": "text/x-python",
   "name": "python",
   "nbconvert_exporter": "python",
   "pygments_lexer": "ipython3",
   "version": "3.12.5"
  }
 },
 "nbformat": 4,
 "nbformat_minor": 2
}
